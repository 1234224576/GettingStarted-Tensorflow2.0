{
 "cells": [
  {
   "cell_type": "code",
   "execution_count": 1,
   "metadata": {},
   "outputs": [],
   "source": [
    "import tensorflow as tf"
   ]
  },
  {
   "cell_type": "code",
   "execution_count": 2,
   "metadata": {},
   "outputs": [],
   "source": [
    "# In the tf.keras.layers package, layers are objects. To construct a layer,\n",
    "# simply construct the object. Most layers take as a first argument the number\n",
    "# of output dimensions / channels.\n",
    "layer = tf.keras.layers.Dense(100)\n",
    "# The number of input dimensions is often unnecessary, as it can be inferred\n",
    "# the first time the layer is used, but it can be provided if you want to\n",
    "# specify it manually, which is useful in some complex models.\n",
    "layer = tf.keras.layers.Dense(10, input_shape=(None, 5))"
   ]
  },
  {
   "cell_type": "code",
   "execution_count": 3,
   "metadata": {},
   "outputs": [
    {
     "data": {
      "text/plain": [
       "<tf.Tensor: id=29, shape=(10, 10), dtype=float32, numpy=\n",
       "array([[0., 0., 0., 0., 0., 0., 0., 0., 0., 0.],\n",
       "       [0., 0., 0., 0., 0., 0., 0., 0., 0., 0.],\n",
       "       [0., 0., 0., 0., 0., 0., 0., 0., 0., 0.],\n",
       "       [0., 0., 0., 0., 0., 0., 0., 0., 0., 0.],\n",
       "       [0., 0., 0., 0., 0., 0., 0., 0., 0., 0.],\n",
       "       [0., 0., 0., 0., 0., 0., 0., 0., 0., 0.],\n",
       "       [0., 0., 0., 0., 0., 0., 0., 0., 0., 0.],\n",
       "       [0., 0., 0., 0., 0., 0., 0., 0., 0., 0.],\n",
       "       [0., 0., 0., 0., 0., 0., 0., 0., 0., 0.],\n",
       "       [0., 0., 0., 0., 0., 0., 0., 0., 0., 0.]], dtype=float32)>"
      ]
     },
     "execution_count": 3,
     "metadata": {},
     "output_type": "execute_result"
    }
   ],
   "source": [
    "# To use a layer, simply call it.\n",
    "layer(tf.zeros([10, 5]))"
   ]
  },
  {
   "cell_type": "code",
   "execution_count": 4,
   "metadata": {},
   "outputs": [
    {
     "data": {
      "text/plain": [
       "[<tf.Variable 'dense_1/kernel:0' shape=(5, 10) dtype=float32, numpy=\n",
       " array([[-6.1429024e-01, -2.0515648e-01,  1.8589044e-01, -4.9213231e-02,\n",
       "         -4.6019626e-01,  1.6647738e-01,  1.3429040e-01, -5.5684382e-01,\n",
       "          3.1227452e-01, -2.2312421e-01],\n",
       "        [ 5.8687967e-01, -4.6922177e-01,  4.9457771e-01,  6.2599951e-01,\n",
       "         -4.8714831e-01, -8.0453277e-02,  3.0963057e-01, -1.1595774e-01,\n",
       "         -3.0063450e-02,  4.8094517e-01],\n",
       "        [ 3.4987926e-05, -4.4575095e-01, -2.2099078e-02, -4.0984702e-01,\n",
       "         -2.7571374e-01,  9.1852784e-02, -1.9139516e-01,  3.2735765e-01,\n",
       "          5.4558021e-01,  6.0059243e-01],\n",
       "        [ 4.2950279e-01, -5.8075505e-01,  4.7631663e-01, -2.2284630e-01,\n",
       "         -2.7126017e-01,  2.3644930e-01, -5.2372217e-03,  5.3934872e-02,\n",
       "         -5.1261193e-01,  4.3773526e-01],\n",
       "        [-7.1683645e-02, -5.1215035e-01, -2.9880604e-01,  3.4187490e-01,\n",
       "          1.9079411e-01,  4.4728583e-01,  2.6653504e-01, -2.8764281e-01,\n",
       "          3.0537486e-01, -1.7222866e-01]], dtype=float32)>,\n",
       " <tf.Variable 'dense_1/bias:0' shape=(10,) dtype=float32, numpy=array([0., 0., 0., 0., 0., 0., 0., 0., 0., 0.], dtype=float32)>]"
      ]
     },
     "execution_count": 4,
     "metadata": {},
     "output_type": "execute_result"
    }
   ],
   "source": [
    "layer.variables"
   ]
  },
  {
   "cell_type": "code",
   "execution_count": 5,
   "metadata": {},
   "outputs": [
    {
     "data": {
      "text/plain": [
       "(<tf.Variable 'dense_1/kernel:0' shape=(5, 10) dtype=float32, numpy=\n",
       " array([[-6.1429024e-01, -2.0515648e-01,  1.8589044e-01, -4.9213231e-02,\n",
       "         -4.6019626e-01,  1.6647738e-01,  1.3429040e-01, -5.5684382e-01,\n",
       "          3.1227452e-01, -2.2312421e-01],\n",
       "        [ 5.8687967e-01, -4.6922177e-01,  4.9457771e-01,  6.2599951e-01,\n",
       "         -4.8714831e-01, -8.0453277e-02,  3.0963057e-01, -1.1595774e-01,\n",
       "         -3.0063450e-02,  4.8094517e-01],\n",
       "        [ 3.4987926e-05, -4.4575095e-01, -2.2099078e-02, -4.0984702e-01,\n",
       "         -2.7571374e-01,  9.1852784e-02, -1.9139516e-01,  3.2735765e-01,\n",
       "          5.4558021e-01,  6.0059243e-01],\n",
       "        [ 4.2950279e-01, -5.8075505e-01,  4.7631663e-01, -2.2284630e-01,\n",
       "         -2.7126017e-01,  2.3644930e-01, -5.2372217e-03,  5.3934872e-02,\n",
       "         -5.1261193e-01,  4.3773526e-01],\n",
       "        [-7.1683645e-02, -5.1215035e-01, -2.9880604e-01,  3.4187490e-01,\n",
       "          1.9079411e-01,  4.4728583e-01,  2.6653504e-01, -2.8764281e-01,\n",
       "          3.0537486e-01, -1.7222866e-01]], dtype=float32)>,\n",
       " <tf.Variable 'dense_1/bias:0' shape=(10,) dtype=float32, numpy=array([0., 0., 0., 0., 0., 0., 0., 0., 0., 0.], dtype=float32)>)"
      ]
     },
     "execution_count": 5,
     "metadata": {},
     "output_type": "execute_result"
    }
   ],
   "source": [
    "layer.kernel, layer.bias"
   ]
  },
  {
   "cell_type": "code",
   "execution_count": 6,
   "metadata": {},
   "outputs": [
    {
     "name": "stdout",
     "output_type": "stream",
     "text": [
      "tf.Tensor(\n",
      "[[0. 0. 0. 0. 0. 0. 0. 0. 0. 0.]\n",
      " [0. 0. 0. 0. 0. 0. 0. 0. 0. 0.]\n",
      " [0. 0. 0. 0. 0. 0. 0. 0. 0. 0.]\n",
      " [0. 0. 0. 0. 0. 0. 0. 0. 0. 0.]\n",
      " [0. 0. 0. 0. 0. 0. 0. 0. 0. 0.]\n",
      " [0. 0. 0. 0. 0. 0. 0. 0. 0. 0.]\n",
      " [0. 0. 0. 0. 0. 0. 0. 0. 0. 0.]\n",
      " [0. 0. 0. 0. 0. 0. 0. 0. 0. 0.]\n",
      " [0. 0. 0. 0. 0. 0. 0. 0. 0. 0.]\n",
      " [0. 0. 0. 0. 0. 0. 0. 0. 0. 0.]], shape=(10, 10), dtype=float32)\n",
      "[<tf.Variable 'my_dense_layer/kernel:0' shape=(5, 10) dtype=float32, numpy=\n",
      "array([[-0.04408383,  0.47141677, -0.29397658,  0.06571525, -0.5669927 ,\n",
      "        -0.42423153,  0.38100916, -0.30293494, -0.45707405, -0.36502463],\n",
      "       [-0.43345034, -0.17181233, -0.4763126 , -0.13858593,  0.6035684 ,\n",
      "        -0.2902254 , -0.25589144,  0.081958  , -0.5394434 , -0.19359607],\n",
      "       [-0.12313956,  0.30210543,  0.45014042,  0.33367676, -0.0715344 ,\n",
      "        -0.51576376, -0.33129793, -0.42440948, -0.47208703, -0.17928272],\n",
      "       [ 0.01207989,  0.00623018, -0.323489  , -0.05545771,  0.50759035,\n",
      "        -0.35590175,  0.60382444, -0.4164495 ,  0.46419567, -0.14283231],\n",
      "       [-0.25405544,  0.04380548, -0.16987756,  0.08748454,  0.5557764 ,\n",
      "        -0.1088708 , -0.2603263 , -0.24523774, -0.14515913,  0.19288057]],\n",
      "      dtype=float32)>]\n"
     ]
    }
   ],
   "source": [
    "class MyDenseLayer(tf.keras.layers.Layer):\n",
    "  def __init__(self, num_outputs):\n",
    "    super(MyDenseLayer, self).__init__()\n",
    "    self.num_outputs = num_outputs\n",
    "\n",
    "  def build(self, input_shape):\n",
    "    self.kernel = self.add_variable(\n",
    "        \"kernel\",\n",
    "        shape=[int(input_shape[-1]), self.num_outputs]\n",
    "    )\n",
    "\n",
    "  def call(self, input):\n",
    "    return tf.matmul(input, self.kernel)\n",
    "\n",
    "layer = MyDenseLayer(10)\n",
    "print(layer(tf.zeros([10, 5])))\n",
    "print(layer.trainable_variables)"
   ]
  },
  {
   "cell_type": "code",
   "execution_count": null,
   "metadata": {},
   "outputs": [],
   "source": []
  }
 ],
 "metadata": {
  "kernelspec": {
   "display_name": "Python 3",
   "language": "python",
   "name": "python3"
  },
  "language_info": {
   "codemirror_mode": {
    "name": "ipython",
    "version": 3
   },
   "file_extension": ".py",
   "mimetype": "text/x-python",
   "name": "python",
   "nbconvert_exporter": "python",
   "pygments_lexer": "ipython3",
   "version": "3.5.3"
  }
 },
 "nbformat": 4,
 "nbformat_minor": 2
}
