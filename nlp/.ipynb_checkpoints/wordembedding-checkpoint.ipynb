{
 "cells": [
  {
   "cell_type": "code",
   "execution_count": 1,
   "metadata": {},
   "outputs": [],
   "source": [
    "import tensorflow as tf\n",
    "\n",
    "from tensorflow import keras\n",
    "from tensorflow.keras import layers"
   ]
  },
  {
   "cell_type": "code",
   "execution_count": 2,
   "metadata": {},
   "outputs": [],
   "source": [
    "embedding_layer = layers.Embedding(1000, 32)"
   ]
  },
  {
   "cell_type": "code",
   "execution_count": 3,
   "metadata": {},
   "outputs": [],
   "source": [
    "vocab_size = 10000\n",
    "imdb = keras.datasets.imdb\n",
    "(train_data, train_labels), (test_data, test_labels) = imdb.load_data(num_words=vocab_size)"
   ]
  },
  {
   "cell_type": "code",
   "execution_count": 6,
   "metadata": {},
   "outputs": [
    {
     "name": "stdout",
     "output_type": "stream",
     "text": [
      "[1, 14, 22, 16, 43, 530, 973, 1622, 1385, 65, 458, 4468, 66, 3941, 4, 173, 36, 256, 5, 25, 100, 43, 838, 112, 50, 670, 2, 9, 35, 480, 284, 5, 150, 4, 172, 112, 167, 2, 336, 385, 39, 4, 172, 4536, 1111, 17, 546, 38, 13, 447, 4, 192, 50, 16, 6, 147, 2025, 19, 14, 22, 4, 1920, 4613, 469, 4, 22, 71, 87, 12, 16, 43, 530, 38, 76, 15, 13, 1247, 4, 22, 17, 515, 17, 12, 16, 626, 18, 2, 5, 62, 386, 12, 8, 316, 8, 106, 5, 4, 2223, 5244, 16, 480, 66, 3785, 33, 4, 130, 12, 16, 38, 619, 5, 25, 124, 51, 36, 135, 48, 25, 1415, 33, 6, 22, 12, 215, 28, 77, 52, 5, 14, 407, 16, 82, 2, 8, 4, 107, 117, 5952, 15, 256, 4, 2, 7, 3766, 5, 723, 36, 71, 43, 530, 476, 26, 400, 317, 46, 7, 4, 2, 1029, 13, 104, 88, 4, 381, 15, 297, 98, 32, 2071, 56, 26, 141, 6, 194, 7486, 18, 4, 226, 22, 21, 134, 476, 26, 480, 5, 144, 30, 5535, 18, 51, 36, 28, 224, 92, 25, 104, 4, 226, 65, 16, 38, 1334, 88, 12, 16, 283, 5, 16, 4472, 113, 103, 32, 15, 16, 5345, 19, 178, 32]\n"
     ]
    }
   ],
   "source": [
    "print(train_data[0])"
   ]
  },
  {
   "cell_type": "code",
   "execution_count": 16,
   "metadata": {},
   "outputs": [],
   "source": [
    "# The first indices are reserved\n",
    "word_index = {k:(v+3) for k,v in word_index.items()}\n",
    "word_index[\"<PAD>\"] = 0\n",
    "word_index[\"<START>\"] = 1\n",
    "word_index[\"<UNK>\"] = 2  # unknown\n",
    "word_index[\"<UNUSED>\"] = 3\n",
    "\n",
    "reverse_word_index = dict([(value, key) for (key, value) in word_index.items()])"
   ]
  },
  {
   "cell_type": "code",
   "execution_count": 17,
   "metadata": {},
   "outputs": [],
   "source": [
    "def decode_review(text):\n",
    "    return ' '.join([reverse_word_index.get(i, '?') for i in text])"
   ]
  },
  {
   "cell_type": "code",
   "execution_count": 18,
   "metadata": {},
   "outputs": [
    {
     "data": {
      "text/plain": [
       "\"<START> to was br who actress rate shouldn't historical she mother nicholson even synopsis ? director be girl ? with its who leads watch about documentary <UNK> ? he i'd money ? should ? makes watch didn't <UNK> mind stupid at ? makes arrived dancing in obviously all of entertaining ? seems about br ? such sea i to was ? ladies pokemon example ? was story do a br who actress all can is of immediately ? was in flick in a br running it <UNK> ? up start a ? version ? could ? ? president interactions br i'd even laurel his ? know a br all song ? with best it's be your or with aspects his ? was a without film were out ? to keep br much <UNK> ? ? any many btw is girl ? <UNK> ? providing ? miss be story who actress 4 movie terrible audience like ? ? <UNK> success of them also ? next is year don't are keaton there movie say ? got sour it ? almost was that better 4 movie i'd ? why not aim it it's be film isn't first with them ? almost she br all pieces also a br ending ? br wished two make are is br charged i same are\""
      ]
     },
     "execution_count": 18,
     "metadata": {},
     "output_type": "execute_result"
    }
   ],
   "source": [
    "decode_review(train_data[0])"
   ]
  },
  {
   "cell_type": "code",
   "execution_count": 19,
   "metadata": {},
   "outputs": [],
   "source": [
    "maxlen = 500"
   ]
  },
  {
   "cell_type": "code",
   "execution_count": 20,
   "metadata": {},
   "outputs": [],
   "source": [
    "train_data = keras.preprocessing.sequence.pad_sequences(\n",
    "    train_data,\n",
    "    value=word_index[\"<PAD>\"],\n",
    "    padding='post',\n",
    "    maxlen=maxlen\n",
    ")\n",
    "\n",
    "test_data = keras.preprocessing.sequence.pad_sequences(\n",
    "    test_data,\n",
    "   value=word_index[\"<PAD>\"],\n",
    "   padding='post',\n",
    "   maxlen=maxlen\n",
    ")"
   ]
  },
  {
   "cell_type": "code",
   "execution_count": 21,
   "metadata": {},
   "outputs": [
    {
     "name": "stdout",
     "output_type": "stream",
     "text": [
      "[   1   14   22   16   43  530  973 1622 1385   65  458 4468   66 3941\n",
      "    4  173   36  256    5   25  100   43  838  112   50  670    2    9\n",
      "   35  480  284    5  150    4  172  112  167    2  336  385   39    4\n",
      "  172 4536 1111   17  546   38   13  447    4  192   50   16    6  147\n",
      " 2025   19   14   22    4 1920 4613  469    4   22   71   87   12   16\n",
      "   43  530   38   76   15   13 1247    4   22   17  515   17   12   16\n",
      "  626   18    2    5   62  386   12    8  316    8  106    5    4 2223\n",
      " 5244   16  480   66 3785   33    4  130   12   16   38  619    5   25\n",
      "  124   51   36  135   48   25 1415   33    6   22   12  215   28   77\n",
      "   52    5   14  407   16   82    2    8    4  107  117 5952   15  256\n",
      "    4    2    7 3766    5  723   36   71   43  530  476   26  400  317\n",
      "   46    7    4    2 1029   13  104   88    4  381   15  297   98   32\n",
      " 2071   56   26  141    6  194 7486   18    4  226   22   21  134  476\n",
      "   26  480    5  144   30 5535   18   51   36   28  224   92   25  104\n",
      "    4  226   65   16   38 1334   88   12   16  283    5   16 4472  113\n",
      "  103   32   15   16 5345   19  178   32    0    0    0    0    0    0\n",
      "    0    0    0    0    0    0    0    0    0    0    0    0    0    0\n",
      "    0    0    0    0    0    0    0    0    0    0    0    0    0    0\n",
      "    0    0    0    0    0    0    0    0    0    0    0    0    0    0\n",
      "    0    0    0    0    0    0    0    0    0    0    0    0    0    0\n",
      "    0    0    0    0    0    0    0    0    0    0    0    0    0    0\n",
      "    0    0    0    0    0    0    0    0    0    0    0    0    0    0\n",
      "    0    0    0    0    0    0    0    0    0    0    0    0    0    0\n",
      "    0    0    0    0    0    0    0    0    0    0    0    0    0    0\n",
      "    0    0    0    0    0    0    0    0    0    0    0    0    0    0\n",
      "    0    0    0    0    0    0    0    0    0    0    0    0    0    0\n",
      "    0    0    0    0    0    0    0    0    0    0    0    0    0    0\n",
      "    0    0    0    0    0    0    0    0    0    0    0    0    0    0\n",
      "    0    0    0    0    0    0    0    0    0    0    0    0    0    0\n",
      "    0    0    0    0    0    0    0    0    0    0    0    0    0    0\n",
      "    0    0    0    0    0    0    0    0    0    0    0    0    0    0\n",
      "    0    0    0    0    0    0    0    0    0    0    0    0    0    0\n",
      "    0    0    0    0    0    0    0    0    0    0    0    0    0    0\n",
      "    0    0    0    0    0    0    0    0    0    0    0    0    0    0\n",
      "    0    0    0    0    0    0    0    0    0    0    0    0    0    0\n",
      "    0    0    0    0    0    0    0    0    0    0]\n"
     ]
    }
   ],
   "source": [
    "print(train_data[0])"
   ]
  },
  {
   "cell_type": "code",
   "execution_count": 22,
   "metadata": {},
   "outputs": [
    {
     "name": "stdout",
     "output_type": "stream",
     "text": [
      "Model: \"sequential\"\n",
      "_________________________________________________________________\n",
      "Layer (type)                 Output Shape              Param #   \n",
      "=================================================================\n",
      "embedding_1 (Embedding)      (None, 500, 16)           160000    \n",
      "_________________________________________________________________\n",
      "global_average_pooling1d (Gl (None, 16)                0         \n",
      "_________________________________________________________________\n",
      "dense (Dense)                (None, 16)                272       \n",
      "_________________________________________________________________\n",
      "dense_1 (Dense)              (None, 1)                 17        \n",
      "=================================================================\n",
      "Total params: 160,289\n",
      "Trainable params: 160,289\n",
      "Non-trainable params: 0\n",
      "_________________________________________________________________\n"
     ]
    }
   ],
   "source": [
    "embedding_dim=16\n",
    "\n",
    "model = keras.Sequential([\n",
    "  layers.Embedding(vocab_size, embedding_dim, input_length=maxlen),\n",
    "  layers.GlobalAveragePooling1D(),\n",
    "  layers.Dense(16, activation='relu'),\n",
    "  layers.Dense(1, activation='sigmoid')\n",
    "])\n",
    "\n",
    "model.summary()"
   ]
  },
  {
   "cell_type": "code",
   "execution_count": 23,
   "metadata": {},
   "outputs": [
    {
     "name": "stderr",
     "output_type": "stream",
     "text": [
      "WARNING: Logging before flag parsing goes to stderr.\n",
      "W0716 06:52:28.259545 140345377761024 deprecation.py:323] From /usr/local/lib/python3.5/dist-packages/tensorflow/python/ops/math_grad.py:1250: add_dispatch_support.<locals>.wrapper (from tensorflow.python.ops.array_ops) is deprecated and will be removed in a future version.\n",
      "Instructions for updating:\n",
      "Use tf.where in 2.0, which has the same broadcast rule as np.where\n"
     ]
    },
    {
     "name": "stdout",
     "output_type": "stream",
     "text": [
      "Train on 20000 samples, validate on 5000 samples\n",
      "Epoch 1/30\n",
      "20000/20000 [==============================] - 4s 221us/sample - loss: 0.6923 - accuracy: 0.5361 - val_loss: 0.6909 - val_accuracy: 0.6204\n",
      "Epoch 2/30\n",
      "20000/20000 [==============================] - 4s 189us/sample - loss: 0.6869 - accuracy: 0.6441 - val_loss: 0.6817 - val_accuracy: 0.6132\n",
      "Epoch 3/30\n",
      "20000/20000 [==============================] - 4s 184us/sample - loss: 0.6742 - accuracy: 0.7200 - val_loss: 0.6633 - val_accuracy: 0.7608\n",
      "Epoch 4/30\n",
      "20000/20000 [==============================] - 4s 190us/sample - loss: 0.6501 - accuracy: 0.7703 - val_loss: 0.6323 - val_accuracy: 0.7720\n",
      "Epoch 5/30\n",
      "20000/20000 [==============================] - 4s 181us/sample - loss: 0.6131 - accuracy: 0.7960 - val_loss: 0.5910 - val_accuracy: 0.7926\n",
      "Epoch 6/30\n",
      "20000/20000 [==============================] - 4s 183us/sample - loss: 0.5654 - accuracy: 0.8145 - val_loss: 0.5427 - val_accuracy: 0.8098\n",
      "Epoch 7/30\n",
      "20000/20000 [==============================] - 4s 191us/sample - loss: 0.5142 - accuracy: 0.8303 - val_loss: 0.4965 - val_accuracy: 0.8260\n",
      "Epoch 8/30\n",
      "20000/20000 [==============================] - 4s 189us/sample - loss: 0.4644 - accuracy: 0.8518 - val_loss: 0.4557 - val_accuracy: 0.8388\n",
      "Epoch 9/30\n",
      "20000/20000 [==============================] - 4s 193us/sample - loss: 0.4209 - accuracy: 0.8648 - val_loss: 0.4203 - val_accuracy: 0.8560\n",
      "Epoch 10/30\n",
      "20000/20000 [==============================] - 4s 182us/sample - loss: 0.3840 - accuracy: 0.8767 - val_loss: 0.3932 - val_accuracy: 0.8618\n",
      "Epoch 11/30\n",
      "20000/20000 [==============================] - 4s 184us/sample - loss: 0.3538 - accuracy: 0.8835 - val_loss: 0.3716 - val_accuracy: 0.8682\n",
      "Epoch 12/30\n",
      "20000/20000 [==============================] - 4s 185us/sample - loss: 0.3295 - accuracy: 0.8896 - val_loss: 0.3551 - val_accuracy: 0.8698\n",
      "Epoch 13/30\n",
      "20000/20000 [==============================] - 4s 184us/sample - loss: 0.3086 - accuracy: 0.8963 - val_loss: 0.3416 - val_accuracy: 0.8716\n",
      "Epoch 14/30\n",
      "20000/20000 [==============================] - 4s 187us/sample - loss: 0.2907 - accuracy: 0.9019 - val_loss: 0.3309 - val_accuracy: 0.8740\n",
      "Epoch 15/30\n",
      "20000/20000 [==============================] - 4s 184us/sample - loss: 0.2768 - accuracy: 0.9064 - val_loss: 0.3222 - val_accuracy: 0.8786\n",
      "Epoch 16/30\n",
      "20000/20000 [==============================] - 4s 184us/sample - loss: 0.2630 - accuracy: 0.9105 - val_loss: 0.3206 - val_accuracy: 0.8750\n",
      "Epoch 17/30\n",
      "20000/20000 [==============================] - 4s 183us/sample - loss: 0.2510 - accuracy: 0.9139 - val_loss: 0.3092 - val_accuracy: 0.8830\n",
      "Epoch 18/30\n",
      "20000/20000 [==============================] - 4s 185us/sample - loss: 0.2398 - accuracy: 0.9187 - val_loss: 0.3033 - val_accuracy: 0.8846\n",
      "Epoch 19/30\n",
      "20000/20000 [==============================] - 4s 183us/sample - loss: 0.2300 - accuracy: 0.9212 - val_loss: 0.2993 - val_accuracy: 0.8858\n",
      "Epoch 20/30\n",
      "20000/20000 [==============================] - 4s 181us/sample - loss: 0.2208 - accuracy: 0.9244 - val_loss: 0.2959 - val_accuracy: 0.8876\n",
      "Epoch 21/30\n",
      "20000/20000 [==============================] - 4s 185us/sample - loss: 0.2131 - accuracy: 0.9269 - val_loss: 0.2927 - val_accuracy: 0.8888\n",
      "Epoch 22/30\n",
      "20000/20000 [==============================] - 4s 182us/sample - loss: 0.2070 - accuracy: 0.9288 - val_loss: 0.2904 - val_accuracy: 0.8896\n",
      "Epoch 23/30\n",
      "20000/20000 [==============================] - 4s 184us/sample - loss: 0.1989 - accuracy: 0.9316 - val_loss: 0.2902 - val_accuracy: 0.8888\n",
      "Epoch 24/30\n",
      "20000/20000 [==============================] - 4s 183us/sample - loss: 0.1919 - accuracy: 0.9348 - val_loss: 0.2870 - val_accuracy: 0.8904\n",
      "Epoch 25/30\n",
      "20000/20000 [==============================] - 4s 186us/sample - loss: 0.1853 - accuracy: 0.9359 - val_loss: 0.2869 - val_accuracy: 0.8902\n",
      "Epoch 26/30\n",
      "20000/20000 [==============================] - 4s 197us/sample - loss: 0.1804 - accuracy: 0.9384 - val_loss: 0.2856 - val_accuracy: 0.8914\n",
      "Epoch 27/30\n",
      "20000/20000 [==============================] - 4s 193us/sample - loss: 0.1749 - accuracy: 0.9411 - val_loss: 0.2858 - val_accuracy: 0.8918\n",
      "Epoch 28/30\n",
      "20000/20000 [==============================] - 4s 202us/sample - loss: 0.1690 - accuracy: 0.9430 - val_loss: 0.2838 - val_accuracy: 0.8910\n",
      "Epoch 29/30\n",
      "20000/20000 [==============================] - 4s 197us/sample - loss: 0.1636 - accuracy: 0.9457 - val_loss: 0.2835 - val_accuracy: 0.8918\n",
      "Epoch 30/30\n",
      "20000/20000 [==============================] - 4s 191us/sample - loss: 0.1589 - accuracy: 0.9467 - val_loss: 0.2864 - val_accuracy: 0.8926\n"
     ]
    }
   ],
   "source": [
    "model.compile(\n",
    "    optimizer='adam',\n",
    "    loss='binary_crossentropy',\n",
    "    metrics=['accuracy']\n",
    ")\n",
    "\n",
    "history = model.fit(\n",
    "    train_data,\n",
    "    train_labels,\n",
    "    epochs=30,\n",
    "    batch_size=512,\n",
    "    validation_split=0.2\n",
    ")"
   ]
  },
  {
   "cell_type": "code",
   "execution_count": 24,
   "metadata": {},
   "outputs": [
    {
     "data": {
      "image/png": "[encoded data removed]",
      "text/plain": [
       "<Figure size 864x648 with 1 Axes>"
      ]
     },
     "metadata": {
      "needs_background": "light"
     },
     "output_type": "display_data"
    },
    {
     "data": {
      "image/png": "[encoded data removed]",
      "text/plain": [
       "<Figure size 864x648 with 1 Axes>"
      ]
     },
     "metadata": {
      "needs_background": "light"
     },
     "output_type": "display_data"
    }
   ],
   "source": [
    "import matplotlib.pyplot as plt\n",
    "\n",
    "history_dict = history.history\n",
    "\n",
    "acc = history_dict['accuracy']\n",
    "val_acc = history_dict['val_accuracy']\n",
    "loss = history_dict['loss']\n",
    "val_loss = history_dict['val_loss']\n",
    "\n",
    "epochs = range(1, len(acc) + 1)\n",
    "\n",
    "plt.figure(figsize=(12,9))\n",
    "plt.plot(epochs, loss, 'bo', label='Training loss')\n",
    "plt.plot(epochs, val_loss, 'b', label='Validation loss')\n",
    "plt.title('Training and validation loss')\n",
    "plt.xlabel('Epochs')\n",
    "plt.ylabel('Loss')\n",
    "plt.legend()\n",
    "plt.show()\n",
    "\n",
    "plt.figure(figsize=(12,9))\n",
    "plt.plot(epochs, acc, 'bo', label='Training acc')\n",
    "plt.plot(epochs, val_acc, 'b', label='Validation acc')\n",
    "plt.title('Training and validation accuracy')\n",
    "plt.xlabel('Epochs')\n",
    "plt.ylabel('Accuracy')\n",
    "plt.legend(loc='lower right')\n",
    "plt.ylim((0.5,1))\n",
    "plt.show()"
   ]
  },
  {
   "cell_type": "code",
   "execution_count": 25,
   "metadata": {},
   "outputs": [
    {
     "name": "stdout",
     "output_type": "stream",
     "text": [
      "(10000, 16)\n"
     ]
    }
   ],
   "source": [
    "e = model.layers[0]\n",
    "weights = e.get_weights()[0]\n",
    "print(weights.shape) # shape: (vocab_size, embedding_dim)"
   ]
  },
  {
   "cell_type": "code",
   "execution_count": 33,
   "metadata": {},
   "outputs": [],
   "source": [
    "import io\n",
    "\n",
    "out_v = io.open('vecs.tsv', 'w', encoding='utf-8')\n",
    "out_m = io.open('meta.tsv', 'w', encoding='utf-8')\n",
    "for word_num in range(vocab_size):\n",
    "    try:\n",
    "      word = reverse_word_index[word_num]\n",
    "      embeddings = weights[word_num]\n",
    "      out_m.write(word + \"\\n\")\n",
    "      out_v.write('\\t'.join([str(x) for x in embeddings]) + \"\\n\")\n",
    "    except:\n",
    "        pass\n",
    "out_v.close()\n",
    "out_m.close()"
   ]
  },
  {
   "cell_type": "code",
   "execution_count": null,
   "metadata": {},
   "outputs": [],
   "source": []
  }
 ],
 "metadata": {
  "kernelspec": {
   "display_name": "Python 3",
   "language": "python",
   "name": "python3"
  },
  "language_info": {
   "codemirror_mode": {
    "name": "ipython",
    "version": 3
   },
   "file_extension": ".py",
   "mimetype": "text/x-python",
   "name": "python",
   "nbconvert_exporter": "python",
   "pygments_lexer": "ipython3",
   "version": "3.5.3"
  }
 },
 "nbformat": 4,
 "nbformat_minor": 2
}
