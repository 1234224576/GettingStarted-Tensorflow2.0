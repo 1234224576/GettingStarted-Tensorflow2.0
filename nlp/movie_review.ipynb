{
 "cells": [
  {
   "cell_type": "code",
   "execution_count": 2,
   "metadata": {},
   "outputs": [],
   "source": [
    "import tensorflow as tf\n",
    "from tensorflow import keras\n",
    "import numpy as np"
   ]
  },
  {
   "cell_type": "code",
   "execution_count": 3,
   "metadata": {},
   "outputs": [],
   "source": [
    "imdb = keras.datasets.imdb\n",
    "\n",
    "(train_data, train_labels), (test_data, test_labels) = imdb.load_data(num_words=10000)"
   ]
  },
  {
   "cell_type": "code",
   "execution_count": 4,
   "metadata": {},
   "outputs": [
    {
     "name": "stdout",
     "output_type": "stream",
     "text": [
      "Training entries: 25000, labels: 25000\n"
     ]
    }
   ],
   "source": [
    "print(\"Training entries: {}, labels: {}\".format(len(train_data), len(train_labels)))"
   ]
  },
  {
   "cell_type": "code",
   "execution_count": 5,
   "metadata": {},
   "outputs": [
    {
     "name": "stdout",
     "output_type": "stream",
     "text": [
      "[1, 14, 22, 16, 43, 530, 973, 1622, 1385, 65, 458, 4468, 66, 3941, 4, 173, 36, 256, 5, 25, 100, 43, 838, 112, 50, 670, 2, 9, 35, 480, 284, 5, 150, 4, 172, 112, 167, 2, 336, 385, 39, 4, 172, 4536, 1111, 17, 546, 38, 13, 447, 4, 192, 50, 16, 6, 147, 2025, 19, 14, 22, 4, 1920, 4613, 469, 4, 22, 71, 87, 12, 16, 43, 530, 38, 76, 15, 13, 1247, 4, 22, 17, 515, 17, 12, 16, 626, 18, 2, 5, 62, 386, 12, 8, 316, 8, 106, 5, 4, 2223, 5244, 16, 480, 66, 3785, 33, 4, 130, 12, 16, 38, 619, 5, 25, 124, 51, 36, 135, 48, 25, 1415, 33, 6, 22, 12, 215, 28, 77, 52, 5, 14, 407, 16, 82, 2, 8, 4, 107, 117, 5952, 15, 256, 4, 2, 7, 3766, 5, 723, 36, 71, 43, 530, 476, 26, 400, 317, 46, 7, 4, 2, 1029, 13, 104, 88, 4, 381, 15, 297, 98, 32, 2071, 56, 26, 141, 6, 194, 7486, 18, 4, 226, 22, 21, 134, 476, 26, 480, 5, 144, 30, 5535, 18, 51, 36, 28, 224, 92, 25, 104, 4, 226, 65, 16, 38, 1334, 88, 12, 16, 283, 5, 16, 4472, 113, 103, 32, 15, 16, 5345, 19, 178, 32]\n"
     ]
    }
   ],
   "source": [
    "print(train_data[0])"
   ]
  },
  {
   "cell_type": "code",
   "execution_count": 6,
   "metadata": {},
   "outputs": [],
   "source": [
    "word_index = imdb.get_word_index()\n",
    "\n",
    "word_index = {k:(v+3) for k,v in word_index.items()} \n",
    "word_index[\"<PAD>\"] = 0\n",
    "word_index[\"<START>\"] = 1\n",
    "word_index[\"<UNK>\"] = 2  # unknown\n",
    "word_index[\"<UNUSED>\"] = 3\n",
    "\n",
    "reverse_word_index = dict([(value, key) for (key, value) in word_index.items()])\n",
    "\n",
    "def decode_review(text):\n",
    "    return ' '.join([reverse_word_index.get(i, '?') for i in text])"
   ]
  },
  {
   "cell_type": "code",
   "execution_count": 8,
   "metadata": {},
   "outputs": [
    {
     "data": {
      "text/plain": [
       "\"<START> big hair big boobs bad music and a giant safety pin these are the words to best describe this terrible movie i love cheesy horror movies and i've seen hundreds but this had got to be on of the worst ever made the plot is paper thin and ridiculous the acting is an abomination the script is completely laughable the best is the end showdown with the cop and how he worked out who the killer is it's just so damn terribly written the clothes are sickening and funny in equal <UNK> the hair is big lots of boobs <UNK> men wear those cut <UNK> shirts that show off their <UNK> sickening that men actually wore them and the music is just <UNK> trash that plays over and over again in almost every scene there is trashy music boobs and <UNK> taking away bodies and the gym still doesn't close for <UNK> all joking aside this is a truly bad film whose only charm is to look back on the disaster that was the 80's and have a good old laugh at how bad everything was back then\""
      ]
     },
     "execution_count": 8,
     "metadata": {},
     "output_type": "execute_result"
    }
   ],
   "source": [
    "decode_review(train_data[1])"
   ]
  },
  {
   "cell_type": "code",
   "execution_count": 10,
   "metadata": {},
   "outputs": [],
   "source": [
    "train_data = keras.preprocessing.sequence.pad_sequences(\n",
    "    train_data,\n",
    "    value=word_index[\"<PAD>\"],\n",
    "    padding='post',\n",
    "    maxlen=256\n",
    ")\n",
    "\n",
    "test_data = keras.preprocessing.sequence.pad_sequences(\n",
    "    test_data,\n",
    "    value=word_index[\"<PAD>\"],\n",
    "    padding='post',\n",
    "    maxlen=256\n",
    ")"
   ]
  },
  {
   "cell_type": "code",
   "execution_count": 11,
   "metadata": {},
   "outputs": [
    {
     "name": "stdout",
     "output_type": "stream",
     "text": [
      "Model: \"sequential\"\n",
      "_________________________________________________________________\n",
      "Layer (type)                 Output Shape              Param #   \n",
      "=================================================================\n",
      "embedding (Embedding)        (None, None, 16)          160000    \n",
      "_________________________________________________________________\n",
      "global_average_pooling1d (Gl (None, 16)                0         \n",
      "_________________________________________________________________\n",
      "dense (Dense)                (None, 16)                272       \n",
      "_________________________________________________________________\n",
      "dense_1 (Dense)              (None, 1)                 17        \n",
      "=================================================================\n",
      "Total params: 160,289\n",
      "Trainable params: 160,289\n",
      "Non-trainable params: 0\n",
      "_________________________________________________________________\n"
     ]
    }
   ],
   "source": [
    "vocab_size = 10000\n",
    "\n",
    "model = keras.Sequential()\n",
    "model.add(keras.layers.Embedding(vocab_size, 16))\n",
    "model.add(keras.layers.GlobalAveragePooling1D())\n",
    "model.add(keras.layers.Dense(16, activation='relu'))\n",
    "model.add(keras.layers.Dense(1, activation='sigmoid'))\n",
    "\n",
    "model.summary()"
   ]
  },
  {
   "cell_type": "code",
   "execution_count": 12,
   "metadata": {},
   "outputs": [],
   "source": [
    "model.compile(\n",
    "    optimizer='adam',\n",
    "    loss='binary_crossentropy',\n",
    "    metrics=['accuracy']\n",
    ")"
   ]
  },
  {
   "cell_type": "code",
   "execution_count": 13,
   "metadata": {},
   "outputs": [],
   "source": [
    "x_val = train_data[:10000]\n",
    "partial_x_train = train_data[10000:]\n",
    "\n",
    "y_val = train_labels[:10000]\n",
    "partial_y_train = train_labels[10000:]"
   ]
  },
  {
   "cell_type": "code",
   "execution_count": 14,
   "metadata": {},
   "outputs": [
    {
     "name": "stderr",
     "output_type": "stream",
     "text": [
      "WARNING: Logging before flag parsing goes to stderr.\n",
      "W0716 07:30:37.768960 139627749914368 deprecation.py:323] From /usr/local/lib/python3.5/dist-packages/tensorflow/python/ops/math_grad.py:1250: add_dispatch_support.<locals>.wrapper (from tensorflow.python.ops.array_ops) is deprecated and will be removed in a future version.\n",
      "Instructions for updating:\n",
      "Use tf.where in 2.0, which has the same broadcast rule as np.where\n"
     ]
    },
    {
     "name": "stdout",
     "output_type": "stream",
     "text": [
      "Train on 15000 samples, validate on 10000 samples\n",
      "Epoch 1/40\n",
      "15000/15000 [==============================] - 3s 178us/sample - loss: 0.6916 - accuracy: 0.6115 - val_loss: 0.6894 - val_accuracy: 0.7175\n",
      "Epoch 2/40\n",
      "15000/15000 [==============================] - 2s 114us/sample - loss: 0.6850 - accuracy: 0.7383 - val_loss: 0.6802 - val_accuracy: 0.7492\n",
      "Epoch 3/40\n",
      "15000/15000 [==============================] - 2s 112us/sample - loss: 0.6710 - accuracy: 0.7573 - val_loss: 0.6627 - val_accuracy: 0.7523\n",
      "Epoch 4/40\n",
      "15000/15000 [==============================] - 2s 125us/sample - loss: 0.6472 - accuracy: 0.7729 - val_loss: 0.6356 - val_accuracy: 0.7523\n",
      "Epoch 5/40\n",
      "15000/15000 [==============================] - 2s 117us/sample - loss: 0.6128 - accuracy: 0.7947 - val_loss: 0.5998 - val_accuracy: 0.7877\n",
      "Epoch 6/40\n",
      "15000/15000 [==============================] - 2s 117us/sample - loss: 0.5699 - accuracy: 0.8165 - val_loss: 0.5587 - val_accuracy: 0.8094\n",
      "Epoch 7/40\n",
      "15000/15000 [==============================] - 2s 132us/sample - loss: 0.5223 - accuracy: 0.8334 - val_loss: 0.5143 - val_accuracy: 0.8224\n",
      "Epoch 8/40\n",
      "15000/15000 [==============================] - 2s 129us/sample - loss: 0.4750 - accuracy: 0.8510 - val_loss: 0.4736 - val_accuracy: 0.8362\n",
      "Epoch 9/40\n",
      "15000/15000 [==============================] - 2s 131us/sample - loss: 0.4313 - accuracy: 0.8657 - val_loss: 0.4372 - val_accuracy: 0.8464\n",
      "Epoch 10/40\n",
      "15000/15000 [==============================] - 2s 140us/sample - loss: 0.3927 - accuracy: 0.8758 - val_loss: 0.4072 - val_accuracy: 0.8526\n",
      "Epoch 11/40\n",
      "15000/15000 [==============================] - 2s 112us/sample - loss: 0.3601 - accuracy: 0.8841 - val_loss: 0.3825 - val_accuracy: 0.8596\n",
      "Epoch 12/40\n",
      "15000/15000 [==============================] - 2s 119us/sample - loss: 0.3327 - accuracy: 0.8911 - val_loss: 0.3633 - val_accuracy: 0.8624\n",
      "Epoch 13/40\n",
      "15000/15000 [==============================] - 2s 115us/sample - loss: 0.3101 - accuracy: 0.8971 - val_loss: 0.3466 - val_accuracy: 0.8689\n",
      "Epoch 14/40\n",
      "15000/15000 [==============================] - 2s 129us/sample - loss: 0.2898 - accuracy: 0.9030 - val_loss: 0.3343 - val_accuracy: 0.8728\n",
      "Epoch 15/40\n",
      "15000/15000 [==============================] - 2s 123us/sample - loss: 0.2729 - accuracy: 0.9068 - val_loss: 0.3243 - val_accuracy: 0.8743\n",
      "Epoch 16/40\n",
      "15000/15000 [==============================] - 2s 136us/sample - loss: 0.2576 - accuracy: 0.9121 - val_loss: 0.3158 - val_accuracy: 0.8749\n",
      "Epoch 17/40\n",
      "15000/15000 [==============================] - 2s 139us/sample - loss: 0.2434 - accuracy: 0.9161 - val_loss: 0.3087 - val_accuracy: 0.8782\n",
      "Epoch 18/40\n",
      "15000/15000 [==============================] - 2s 126us/sample - loss: 0.2310 - accuracy: 0.9212 - val_loss: 0.3028 - val_accuracy: 0.8803\n",
      "Epoch 19/40\n",
      "15000/15000 [==============================] - 2s 113us/sample - loss: 0.2198 - accuracy: 0.9233 - val_loss: 0.2978 - val_accuracy: 0.8825\n",
      "Epoch 20/40\n",
      "15000/15000 [==============================] - 2s 109us/sample - loss: 0.2097 - accuracy: 0.9273 - val_loss: 0.2943 - val_accuracy: 0.8819\n",
      "Epoch 21/40\n",
      "15000/15000 [==============================] - 2s 136us/sample - loss: 0.1994 - accuracy: 0.9333 - val_loss: 0.2913 - val_accuracy: 0.8834\n",
      "Epoch 22/40\n",
      "15000/15000 [==============================] - 2s 136us/sample - loss: 0.1907 - accuracy: 0.9371 - val_loss: 0.2892 - val_accuracy: 0.8835\n",
      "Epoch 23/40\n",
      "15000/15000 [==============================] - 2s 118us/sample - loss: 0.1821 - accuracy: 0.9412 - val_loss: 0.2881 - val_accuracy: 0.8837\n",
      "Epoch 24/40\n",
      "15000/15000 [==============================] - 2s 149us/sample - loss: 0.1745 - accuracy: 0.9437 - val_loss: 0.2862 - val_accuracy: 0.8843\n",
      "Epoch 25/40\n",
      "15000/15000 [==============================] - 2s 134us/sample - loss: 0.1668 - accuracy: 0.9469 - val_loss: 0.2852 - val_accuracy: 0.8857\n",
      "Epoch 26/40\n",
      "15000/15000 [==============================] - 2s 113us/sample - loss: 0.1600 - accuracy: 0.9499 - val_loss: 0.2858 - val_accuracy: 0.8835\n",
      "Epoch 27/40\n",
      "15000/15000 [==============================] - 2s 111us/sample - loss: 0.1535 - accuracy: 0.9523 - val_loss: 0.2854 - val_accuracy: 0.8842\n",
      "Epoch 28/40\n",
      "15000/15000 [==============================] - 2s 120us/sample - loss: 0.1473 - accuracy: 0.9546 - val_loss: 0.2857 - val_accuracy: 0.8847\n",
      "Epoch 29/40\n",
      "15000/15000 [==============================] - 2s 127us/sample - loss: 0.1419 - accuracy: 0.9577 - val_loss: 0.2880 - val_accuracy: 0.8834\n",
      "Epoch 30/40\n",
      "15000/15000 [==============================] - 2s 146us/sample - loss: 0.1363 - accuracy: 0.9595 - val_loss: 0.2872 - val_accuracy: 0.8856\n",
      "Epoch 31/40\n",
      "15000/15000 [==============================] - 2s 116us/sample - loss: 0.1306 - accuracy: 0.9616 - val_loss: 0.2885 - val_accuracy: 0.8852\n",
      "Epoch 32/40\n",
      "15000/15000 [==============================] - 2s 136us/sample - loss: 0.1254 - accuracy: 0.9647 - val_loss: 0.2901 - val_accuracy: 0.8855\n",
      "Epoch 33/40\n",
      "15000/15000 [==============================] - 2s 136us/sample - loss: 0.1205 - accuracy: 0.9662 - val_loss: 0.2926 - val_accuracy: 0.8844\n",
      "Epoch 34/40\n",
      "15000/15000 [==============================] - 2s 125us/sample - loss: 0.1161 - accuracy: 0.9670 - val_loss: 0.2944 - val_accuracy: 0.8851\n",
      "Epoch 35/40\n",
      "15000/15000 [==============================] - 2s 118us/sample - loss: 0.1120 - accuracy: 0.9684 - val_loss: 0.2977 - val_accuracy: 0.8836\n",
      "Epoch 36/40\n",
      "15000/15000 [==============================] - 2s 117us/sample - loss: 0.1076 - accuracy: 0.9711 - val_loss: 0.2994 - val_accuracy: 0.8844\n",
      "Epoch 37/40\n",
      "15000/15000 [==============================] - 2s 120us/sample - loss: 0.1034 - accuracy: 0.9723 - val_loss: 0.3018 - val_accuracy: 0.8843\n",
      "Epoch 38/40\n",
      "15000/15000 [==============================] - 2s 117us/sample - loss: 0.0995 - accuracy: 0.9737 - val_loss: 0.3055 - val_accuracy: 0.8827\n",
      "Epoch 39/40\n",
      "15000/15000 [==============================] - 2s 125us/sample - loss: 0.0963 - accuracy: 0.9749 - val_loss: 0.3090 - val_accuracy: 0.8823\n",
      "Epoch 40/40\n",
      "15000/15000 [==============================] - 2s 137us/sample - loss: 0.0923 - accuracy: 0.9769 - val_loss: 0.3113 - val_accuracy: 0.8822\n"
     ]
    }
   ],
   "source": [
    "history = model.fit(\n",
    "    partial_x_train,\n",
    "    partial_y_train,\n",
    "    epochs=40,\n",
    "    batch_size=512,\n",
    "    validation_data=(x_val, y_val),\n",
    "    verbose=1\n",
    ")"
   ]
  },
  {
   "cell_type": "code",
   "execution_count": 15,
   "metadata": {},
   "outputs": [
    {
     "name": "stdout",
     "output_type": "stream",
     "text": [
      "25000/25000 [==============================] - 3s 122us/sample - loss: 0.3323 - accuracy: 0.8716\n",
      "[0.3322670948123932, 0.8716]\n"
     ]
    }
   ],
   "source": [
    "results = model.evaluate(test_data, test_labels)\n",
    "\n",
    "print(results)"
   ]
  },
  {
   "cell_type": "code",
   "execution_count": 16,
   "metadata": {},
   "outputs": [
    {
     "data": {
      "text/plain": [
       "dict_keys(['accuracy', 'loss', 'val_accuracy', 'val_loss'])"
      ]
     },
     "execution_count": 16,
     "metadata": {},
     "output_type": "execute_result"
    }
   ],
   "source": [
    "history_dict = history.history\n",
    "history_dict.keys()"
   ]
  },
  {
   "cell_type": "code",
   "execution_count": 17,
   "metadata": {},
   "outputs": [
    {
     "data": {
      "image/png": "[encoded data removed]",
      "text/plain": [
       "<Figure size 432x288 with 1 Axes>"
      ]
     },
     "metadata": {
      "needs_background": "light"
     },
     "output_type": "display_data"
    }
   ],
   "source": [
    "import matplotlib.pyplot as plt\n",
    "\n",
    "acc = history_dict['accuracy']\n",
    "val_acc = history_dict['val_accuracy']\n",
    "loss = history_dict['loss']\n",
    "val_loss = history_dict['val_loss']\n",
    "\n",
    "epochs = range(1, len(acc) + 1)\n",
    "\n",
    "# \"bo\" is for \"blue dot\"\n",
    "plt.plot(epochs, loss, 'bo', label='Training loss')\n",
    "# b is for \"solid blue line\"\n",
    "plt.plot(epochs, val_loss, 'b', label='Validation loss')\n",
    "plt.title('Training and validation loss')\n",
    "plt.xlabel('Epochs')\n",
    "plt.ylabel('Loss')\n",
    "plt.legend()\n",
    "\n",
    "plt.show()"
   ]
  },
  {
   "cell_type": "code",
   "execution_count": 18,
   "metadata": {},
   "outputs": [
    {
     "data": {
      "image/png": "[encoded data removed]",
      "text/plain": [
       "<Figure size 432x288 with 1 Axes>"
      ]
     },
     "metadata": {
      "needs_background": "light"
     },
     "output_type": "display_data"
    }
   ],
   "source": [
    "plt.clf()\n",
    "\n",
    "plt.plot(epochs, acc, 'bo', label='Training acc')\n",
    "plt.plot(epochs, val_acc, 'b', label='Validation acc')\n",
    "plt.title('Training and validation accuracy')\n",
    "plt.xlabel('Epochs')\n",
    "plt.ylabel('Accuracy')\n",
    "plt.legend()\n",
    "\n",
    "plt.show()"
   ]
  },
  {
   "cell_type": "code",
   "execution_count": null,
   "metadata": {},
   "outputs": [],
   "source": []
  }
 ],
 "metadata": {
  "kernelspec": {
   "display_name": "Python 3",
   "language": "python",
   "name": "python3"
  },
  "language_info": {
   "codemirror_mode": {
    "name": "ipython",
    "version": 3
   },
   "file_extension": ".py",
   "mimetype": "text/x-python",
   "name": "python",
   "nbconvert_exporter": "python",
   "pygments_lexer": "ipython3",
   "version": "3.5.3"
  }
 },
 "nbformat": 4,
 "nbformat_minor": 2
}
